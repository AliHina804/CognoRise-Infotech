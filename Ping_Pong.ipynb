{
  "nbformat": 4,
  "nbformat_minor": 0,
  "metadata": {
    "colab": {
      "provenance": [],
      "authorship_tag": "ABX9TyNTVRylXXQwL+17PGS7/RZx",
      "include_colab_link": true
    },
    "kernelspec": {
      "name": "python3",
      "display_name": "Python 3"
    },
    "language_info": {
      "name": "python"
    }
  },
  "cells": [
    {
      "cell_type": "markdown",
      "metadata": {
        "id": "view-in-github",
        "colab_type": "text"
      },
      "source": [
        "<a href=\"https://colab.research.google.com/github/AliHina804/CognoRise-Infotech/blob/main/Ping_Pong.ipynb\" target=\"_parent\"><img src=\"https://colab.research.google.com/assets/colab-badge.svg\" alt=\"Open In Colab\"/></a>"
      ]
    },
    {
      "cell_type": "code",
      "execution_count": 5,
      "metadata": {
        "colab": {
          "base_uri": "https://localhost:8080/"
        },
        "id": "STAfn8cDZvrE",
        "outputId": "b57f3126-c348-4f0a-8149-8114bf1299d3"
      },
      "outputs": [
        {
          "output_type": "stream",
          "name": "stdout",
          "text": [
            "Requirement already satisfied: pygame in /usr/local/lib/python3.10/dist-packages (2.6.1)\n"
          ]
        }
      ],
      "source": [
        "!pip install pygame\n"
      ]
    },
    {
      "cell_type": "code",
      "source": [
        "import pygame\n",
        "import random\n",
        "\n",
        "pygame.init()\n",
        "\n",
        "WIDTH, HEIGHT = 800, 400\n",
        "screen = pygame.display.set_mode((WIDTH, HEIGHT))\n",
        "pygame.display.set_caption(\"Ping Pong AI\")\n",
        "\n",
        "WHITE = (255, 255, 255)\n",
        "BLACK = (0, 0, 0)\n",
        "\n",
        "BALL_SIZE = 10\n",
        "ball_x = WIDTH // 2\n",
        "ball_y = HEIGHT // 2\n",
        "ball_speed_x = 4 * random.choice([-1, 1])\n",
        "ball_speed_y = 4 * random.choice([-1, 1])\n",
        "\n",
        "PADDLE_WIDTH = 10\n",
        "PADDLE_HEIGHT = 100\n",
        "player_paddle_y = (HEIGHT - PADDLE_HEIGHT) // 2\n",
        "ai_paddle_y = (HEIGHT - PADDLE_HEIGHT) // 2\n",
        "paddle_speed = 6\n",
        "\n",
        "player_score = 0\n",
        "ai_score = 0\n",
        "font = pygame.font.Font(None, 36)\n",
        "\n",
        "clock = pygame.time.Clock()\n",
        "FPS = 60\n",
        "\n",
        "running = True\n",
        "\n",
        "def reset_ball():\n",
        "    \"\"\"Resets the ball to the center with a random direction.\"\"\"\n",
        "    global ball_x, ball_y, ball_speed_x, ball_speed_y\n",
        "    ball_x = WIDTH // 2\n",
        "    ball_y = HEIGHT // 2\n",
        "    ball_speed_x *= random.choice([-1, 1])\n",
        "    ball_speed_y *= random.choice([-1, 1])\n",
        "\n",
        "def draw_objects():\n",
        "    \"\"\"Draws the game objects.\"\"\"\n",
        "    screen.fill(BLACK)\n",
        "    pygame.draw.rect(screen, WHITE, (0, player_paddle_y, PADDLE_WIDTH, PADDLE_HEIGHT))  # Player paddle\n",
        "    pygame.draw.rect(screen, WHITE, (WIDTH - PADDLE_WIDTH, ai_paddle_y, PADDLE_WIDTH, PADDLE_HEIGHT))  # AI paddle\n",
        "    pygame.draw.circle(screen, WHITE, (ball_x, ball_y), BALL_SIZE)  # Ball\n",
        "\n",
        "    player_text = font.render(f\"Player: {player_score}\", True, WHITE)\n",
        "    ai_text = font.render(f\"AI: {ai_score}\", True, WHITE)\n",
        "    screen.blit(player_text, (50, 20))\n",
        "    screen.blit(ai_text, (WIDTH - 150, 20))\n",
        "\n",
        "def move_ball():\n",
        "    \"\"\"Handles the ball's movement and collision detection.\"\"\"\n",
        "    global ball_x, ball_y, ball_speed_x, ball_speed_y, player_score, ai_score\n",
        "\n",
        "    ball_x += ball_speed_x\n",
        "    ball_y += ball_speed_y\n",
        "\n",
        "    if ball_y - BALL_SIZE <= 0 or ball_y + BALL_SIZE >= HEIGHT:\n",
        "        ball_speed_y = -ball_speed_y\n",
        "\n",
        "    if (\n",
        "        ball_x - BALL_SIZE <= PADDLE_WIDTH and\n",
        "        player_paddle_y <= ball_y <= player_paddle_y + PADDLE_HEIGHT\n",
        "    ):\n",
        "        ball_speed_x = -ball_speed_x\n",
        "\n",
        "    if (\n",
        "        ball_x + BALL_SIZE >= WIDTH - PADDLE_WIDTH and\n",
        "        ai_paddle_y <= ball_y <= ai_paddle_y + PADDLE_HEIGHT\n",
        "    ):\n",
        "        ball_speed_x = -ball_speed_x\n",
        "\n",
        "    if ball_x <= 0:\n",
        "        ai_score += 1\n",
        "        reset_ball()\n",
        "    if ball_x >= WIDTH:\n",
        "        player_score += 1\n",
        "        reset_ball()\n",
        "\n",
        "def move_ai():\n",
        "    \"\"\"Moves the AI paddle to follow the ball.\"\"\"\n",
        "    global ai_paddle_y\n",
        "\n",
        "    if ai_paddle_y + PADDLE_HEIGHT / 2 < ball_y:\n",
        "        ai_paddle_y += paddle_speed\n",
        "    elif ai_paddle_y + PADDLE_HEIGHT / 2 > ball_y:\n",
        "        ai_paddle_y -= paddle_speed\n",
        "\n",
        "    if ai_paddle_y < 0:\n",
        "        ai_paddle_y = 0\n",
        "    if ai_paddle_y > HEIGHT - PADDLE_HEIGHT:\n",
        "        ai_paddle_y = HEIGHT - PADDLE_HEIGHT\n",
        "\n",
        "while running:\n",
        "    for event in pygame.event.get():\n",
        "        if event.type == pygame.QUIT:\n",
        "            running = False\n",
        "\n",
        "    keys = pygame.key.get_pressed()\n",
        "    if keys[pygame.K_UP] and player_paddle_y > 0:\n",
        "        player_paddle_y -= paddle_speed\n",
        "    if keys[pygame.K_DOWN] and player_paddle_y < HEIGHT - PADDLE_HEIGHT:\n",
        "        player_paddle_y += paddle_speed\n",
        "\n",
        "    move_ball()\n",
        "    move_ai()\n",
        "\n",
        "    draw_objects()\n",
        "\n",
        "    pygame.display.flip()\n",
        "\n",
        "    clock.tick(FPS)\n",
        "\n",
        "pygame.quit()\n"
      ],
      "metadata": {
        "colab": {
          "base_uri": "https://localhost:8080/"
        },
        "id": "5yq1tH26tAWd",
        "outputId": "7e450f43-7e02-49f3-ca6f-cd114d62142f"
      },
      "execution_count": null,
      "outputs": [
        {
          "metadata": {
            "tags": null
          },
          "name": "stdout",
          "output_type": "stream",
          "text": [
            "pygame 2.6.1 (SDL 2.28.4, Python 3.10.12)\n",
            "Hello from the pygame community. https://www.pygame.org/contribute.html\n"
          ]
        }
      ]
    }
  ]
}